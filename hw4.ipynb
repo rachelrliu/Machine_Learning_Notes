{
 "cells": [
  {
   "cell_type": "markdown",
   "metadata": {},
   "source": [
    "#Classification: Spambase Data Set \n",
    "###Author: Ruiqi Liu\n",
    "Data Repository: https://archive.ics.uci.edu/ml/datasets/Spambase"
   ]
  },
  {
   "cell_type": "code",
   "execution_count": 147,
   "metadata": {
    "collapsed": false
   },
   "outputs": [],
   "source": [
    "%matplotlib inline\n",
    "\n",
    "# import necessary libraries  \n",
    "\n",
    "import numpy as np\n",
    "\n",
    "import matplotlib.pyplot as plt\n",
    "plt.rcParams['figure.figsize'] = (20.0, 10.0)"
   ]
  },
  {
   "cell_type": "markdown",
   "metadata": {},
   "source": [
    "##Data Preprocessing\n",
    "###Normalization"
   ]
  },
  {
   "cell_type": "code",
   "execution_count": 156,
   "metadata": {
    "collapsed": false
   },
   "outputs": [
    {
     "data": {
      "text/plain": [
       "(4601, 58)"
      ]
     },
     "execution_count": 156,
     "metadata": {},
     "output_type": "execute_result"
    }
   ],
   "source": [
    "spam = np.genfromtxt('/Users/ruiqiliu/Desktop/MSBA/Fall/MSBA 6420 Predictive Analytics/Hw/spambase.csv',\n",
    "                   delimiter=',')\n",
    "spam.shape"
   ]
  },
  {
   "cell_type": "code",
   "execution_count": 157,
   "metadata": {
    "collapsed": false
   },
   "outputs": [],
   "source": [
    "#Shuffle and Split the data\n",
    "from sklearn.cross_validation import KFold,train_test_split\n",
    "\n",
    "spam = spam[np.random.permutation(len(spam))]\n",
    "X_train,X_test,y_train,y_test = train_test_split(spam[:,0:56],\n",
    "                                                 spam[:,57],\n",
    "                                                 test_size = .2,random_state = 0)"
   ]
  },
  {
   "cell_type": "markdown",
   "metadata": {},
   "source": [
    "Since all of the variables are in different range and are quite sketwed. To ensure classifiers like KNN to work, I first applied min-max scaler to fix the range."
   ]
  },
  {
   "cell_type": "code",
   "execution_count": 158,
   "metadata": {
    "collapsed": false
   },
   "outputs": [],
   "source": [
    "from sklearn.preprocessing import MinMaxScaler \n",
    "\n",
    "min_max_scaler = MinMaxScaler()\n",
    "X_train= min_max_scaler.fit_transform(X_train)\n",
    "X_test = min_max_scaler.transform(X_test)"
   ]
  },
  {
   "cell_type": "markdown",
   "metadata": {},
   "source": [
    "###Feature Selection"
   ]
  },
  {
   "cell_type": "code",
   "execution_count": 164,
   "metadata": {
    "collapsed": false,
    "scrolled": true
   },
   "outputs": [
    {
     "name": "stdout",
     "output_type": "stream",
     "text": [
      "Feature ranking:\n",
      "1. feature 20 (0.068191)\n",
      "2. feature 6 (0.058892)\n",
      "3. feature 51 (0.056283)\n",
      "4. feature 52 (0.051711)\n",
      "5. feature 15 (0.045461)\n",
      "6. feature 18 (0.042078)\n",
      "7. feature 22 (0.041256)\n",
      "8. feature 55 (0.039322)\n",
      "9. feature 24 (0.038424)\n",
      "10. feature 54 (0.036101)\n",
      "11. feature 26 (0.030038)\n",
      "12. feature 4 (0.029378)\n",
      "13. feature 23 (0.026741)\n",
      "14. feature 10 (0.025024)\n",
      "15. feature 16 (0.022078)\n",
      "16. feature 7 (0.021033)\n",
      "17. feature 25 (0.020109)\n",
      "18. feature 45 (0.019867)\n",
      "19. feature 2 (0.018367)\n",
      "20. feature 17 (0.017649)\n",
      "21. feature 36 (0.017172)\n",
      "22. feature 19 (0.016479)\n",
      "23. feature 44 (0.016343)\n",
      "24. feature 8 (0.016249)\n",
      "25. feature 5 (0.015513)\n",
      "26. feature 11 (0.015380)\n",
      "27. feature 49 (0.015345)\n",
      "28. feature 9 (0.014144)\n",
      "29. feature 1 (0.012352)\n",
      "30. feature 41 (0.011765)\n",
      "31. feature 14 (0.010033)\n",
      "32. feature 0 (0.009473)\n",
      "33. feature 29 (0.009197)\n",
      "34. feature 27 (0.008830)\n",
      "35. feature 48 (0.008809)\n",
      "36. feature 21 (0.007283)\n",
      "37. feature 12 (0.007202)\n",
      "38. feature 38 (0.006196)\n",
      "39. feature 28 (0.006136)\n",
      "40. feature 34 (0.005906)\n",
      "41. feature 32 (0.005900)\n",
      "42. feature 53 (0.005880)\n",
      "43. feature 35 (0.005551)\n",
      "44. feature 43 (0.005481)\n",
      "45. feature 13 (0.004909)\n",
      "46. feature 42 (0.004751)\n",
      "47. feature 50 (0.004716)\n",
      "48. feature 30 (0.004518)\n",
      "49. feature 40 (0.003971)\n",
      "50. feature 39 (0.003386)\n",
      "51. feature 3 (0.003060)\n",
      "52. feature 47 (0.002614)\n",
      "53. feature 33 (0.002522)\n",
      "54. feature 31 (0.002301)\n",
      "55. feature 37 (0.001729)\n",
      "56. feature 46 (0.000905)\n"
     ]
    }
   ],
   "source": [
    "from sklearn.ensemble import ExtraTreesClassifier\n",
    "\n",
    "# Build a forest and compute the feature importances\n",
    "forest = ExtraTreesClassifier(n_estimators=250,\n",
    "                              random_state=0)\n",
    "\n",
    "forest.fit(X_train, y_train)\n",
    "importances = forest.feature_importances_\n",
    "std = np.std([tree.feature_importances_ for tree in forest.estimators_],\n",
    "             axis=0)\n",
    "indices = np.argsort(importances)[::-1]\n",
    "\n",
    "# Print the feature ranking\n",
    "print(\"Feature ranking:\")\n",
    "\n",
    "for f in range(X_train.shape[1]):\n",
    "    print(\"%d. feature %d (%f)\" % (f + 1, indices[f], importances[indices[f]]))"
   ]
  },
  {
   "cell_type": "markdown",
   "metadata": {},
   "source": [
    "All Features except for feature 46 are somewhat important. So I decided to temporarely keep all features and apply feature selection in a pipeline afterward.\n",
    "\n",
    "##Uniform Weighted Class\n",
    "\n",
    "I performed 10 fold cross validation and used GridSearchCV to select the best parameters for the following models:"
   ]
  },
  {
   "cell_type": "code",
   "execution_count": 203,
   "metadata": {
    "collapsed": false
   },
   "outputs": [],
   "source": [
    "#Create classifier\n",
    "from sklearn.linear_model import LogisticRegression\n",
    "from sklearn.naive_bayes import GaussianNB\n",
    "from sklearn.ensemble import RandomForestClassifier\n",
    "from sklearn.svm import SVC\n",
    "from sklearn.neighbors import KNeighborsClassifier\n",
    "from sklearn.metrics import (accuracy_score,precision_score, recall_score,f1_score,roc_curve, auc)\n",
    "\n",
    "classifiers = {'Logistic':LogisticRegression(),\n",
    "               'Naive Bayes':GaussianNB(),\n",
    "               'Support Vector Classification':SVC(),\n",
    "               'Random Forest':RandomForestClassifier(),\n",
    "               'KNN':KNeighborsClassifier(),\n",
    "               }\n"
   ]
  },
  {
   "cell_type": "code",
   "execution_count": 206,
   "metadata": {
    "collapsed": false
   },
   "outputs": [],
   "source": [
    "#Set Parameters\n",
    "svm_params = [{'kernel': ['rbf'], 'gamma': [1e-3, 1e-4],'C': [1, 10, 100]},\n",
    "             {'kernel': ['linear'], 'C': [1, 10, 100]}]\n",
    "\n",
    "knn_params = {'n_neighbors':[5,10,30,50,100]}\n",
    "\n",
    "log_params = {'penalty':['l1','l2']}\n",
    "\n",
    "forest_params = {'max_depth': [5,10,30], \n",
    "                'n_estimators':[10,20], \n",
    "                'min_samples_split': [2,5,10]}\n",
    "bayes_params = {}\n",
    "\n",
    "\n",
    "params = {'Logistic': log_params,\n",
    "          'Naive Bayes':bayes_params,\n",
    "          'Support Vector Classification':svm_params,\n",
    "          'Random Forest':forest_params,\n",
    "          'KNN':knn_params,}\n"
   ]
  },
  {
   "cell_type": "code",
   "execution_count": 207,
   "metadata": {
    "collapsed": false
   },
   "outputs": [
    {
     "name": "stdout",
     "output_type": "stream",
     "text": [
      "KNN:\n",
      "{'n_neighbors': 5}\n",
      "\n",
      "Support Vector Classification:\n",
      "{'kernel': 'linear', 'C': 100}\n",
      "\n",
      "Naive Bayes:\n",
      "{}\n",
      "\n",
      "Random Forest:\n",
      "{'min_samples_split': 5, 'n_estimators': 20, 'max_depth': 30}\n",
      "\n",
      "Logistic:\n",
      "{'penalty': 'l1'}\n",
      "\n"
     ]
    }
   ],
   "source": [
    "#Parameter selection + Cross Validation\n",
    "from sklearn.cross_validation import KFold,train_test_split\n",
    "from sklearn.grid_search import GridSearchCV\n",
    "\n",
    "for (name, model), (name2,param) in zip(classifiers.items(),params.items()):\n",
    "    print \"%s:\" % name\n",
    "    clf = GridSearchCV(model, param, cv=10)\n",
    "\n",
    "    clf.fit(X_train, y_train)\n",
    "    y_pred = clf.predict(X_test) \n",
    "    print clf.best_params_\n",
    "    print \n",
    "    "
   ]
  },
  {
   "cell_type": "code",
   "execution_count": 208,
   "metadata": {
    "collapsed": false
   },
   "outputs": [
    {
     "name": "stdout",
     "output_type": "stream",
     "text": [
      "KNN:\n",
      "\tAccuracy: 0.907\n",
      "\tPrecision: 0.894\n",
      "\tRecall: 0.865\n",
      "\tF1: 0.879\n",
      "\n",
      "Support Vector Classification:\n",
      "\tAccuracy: 0.934\n",
      "\tPrecision: 0.910\n",
      "\tRecall: 0.923\n",
      "\tF1: 0.916\n",
      "\n",
      "Naive Bayes:\n",
      "\tAccuracy: 0.818\n",
      "\tPrecision: 0.695\n",
      "\tRecall: 0.956\n",
      "\tF1: 0.805\n",
      "\n",
      "Random Forest:\n",
      "\tAccuracy: 0.949\n",
      "\tPrecision: 0.941\n",
      "\tRecall: 0.928\n",
      "\tF1: 0.935\n",
      "\n",
      "Logistic:\n",
      "\tAccuracy: 0.914\n",
      "\tPrecision: 0.901\n",
      "\tRecall: 0.878\n",
      "\tF1: 0.890\n",
      "\n"
     ]
    }
   ],
   "source": [
    "#Evaluate Performance across all models\n",
    "\n",
    "classifiers = {'Logistic':LogisticRegression(penalty = 'l1'),\n",
    "               'Naive Bayes':GaussianNB(),\n",
    "               'Support Vector Classification':SVC( kernel ='linear', C = 100),\n",
    "               'Random Forest':RandomForestClassifier(min_samples_split = 5, n_estimators= 20, max_depth = 30),\n",
    "               'KNN':KNeighborsClassifier(n_neighbors =5),\n",
    "               }\n",
    "\n",
    "for name, clf in classifiers.items():                  \n",
    "    clf.fit(X_train, y_train)\n",
    "    y_pred = clf.predict(X_test)\n",
    "    print \"%s:\" % name\n",
    "    \n",
    "    # Model performance is evaluated with accuracy, precision, recall and f-score\n",
    "    print \"\\tAccuracy: %1.3f\" % accuracy_score(y_test, y_pred)\n",
    "    print \"\\tPrecision: %1.3f\" % precision_score(y_test, y_pred)\n",
    "    print \"\\tRecall: %1.3f\" % recall_score(y_test, y_pred)\n",
    "    print \"\\tF1: %1.3f\\n\" % f1_score(y_test, y_pred)"
   ]
  },
  {
   "cell_type": "markdown",
   "metadata": {},
   "source": [
    "Considering that we don't want normal emails be classified as spam, I decided to reduce false positive rate. Therefore, I chose Random forest as my final model, which has both high accuracy and precision.\n",
    "\n"
   ]
  },
  {
   "cell_type": "code",
   "execution_count": 214,
   "metadata": {
    "collapsed": false
   },
   "outputs": [
    {
     "data": {
      "image/png": "[encoded data removed]",
      "text/plain": [
       "<matplotlib.figure.Figure at 0x1292d1a90>"
      ]
     },
     "metadata": {},
     "output_type": "display_data"
    }
   ],
   "source": [
    "#The best model\n",
    "best = RandomForestClassifier(min_samples_split = 5, n_estimators= 20, max_depth = 30)\n",
    "\n",
    "#ROC\n",
    "y_pred_rf = best.fit(X_train,y_train).predict_proba(X_test)[:, 1]\n",
    "fpr, tpr, _ = roc_curve(y_test, y_pred_rf)\n",
    "\n",
    "plt.figure(1)\n",
    "plt.plot([0, 1], [0, 1], 'k--')\n",
    "plt.plot(fpr, tpr)\n",
    "plt.xlabel('False positive rate')\n",
    "plt.ylabel('True positive rate')\n",
    "plt.title('ROC curve')\n",
    "plt.show()"
   ]
  },
  {
   "cell_type": "markdown",
   "metadata": {},
   "source": [
    "##Cost Sensitive \n",
    "I applied the same procedure for cost sensitvie model. "
   ]
  },
  {
   "cell_type": "code",
   "execution_count": 226,
   "metadata": {
    "collapsed": false
   },
   "outputs": [],
   "source": [
    "#Create classifier\n",
    "\n",
    "cs_classifiers = {'Logistic':LogisticRegression(class_weight={0: 10,1:1}),\n",
    "               'Support Vector Classification':SVC(class_weight={0:10,1:1}),\n",
    "               'Random Forest':RandomForestClassifier(class_weight={0:10,1:1}),\n",
    "               }"
   ]
  },
  {
   "cell_type": "code",
   "execution_count": 227,
   "metadata": {
    "collapsed": true
   },
   "outputs": [],
   "source": [
    "#Set Parameters\n",
    "svm_params = [{'kernel': ['rbf'], 'gamma': [1e-3, 1e-4],'C': [1, 10, 100]},\n",
    "             {'kernel': ['linear'], 'C': [1, 10, 100]}]\n",
    "\n",
    "\n",
    "log_params = {'penalty':['l1','l2']}\n",
    "\n",
    "forest_params = {'max_depth': [5,10,30], \n",
    "                'n_estimators':[10,20], \n",
    "                'min_samples_split': [2,5,10]}\n",
    "\n",
    "\n",
    "params = {'Logistic': log_params,\n",
    "          'Support Vector Classification':svm_params,\n",
    "          'Random Forest':forest_params}"
   ]
  },
  {
   "cell_type": "code",
   "execution_count": 231,
   "metadata": {
    "collapsed": false
   },
   "outputs": [
    {
     "name": "stdout",
     "output_type": "stream",
     "text": [
      "Support Vector Classification:\n",
      "{'kernel': 'linear', 'C': 100}\n",
      "\n",
      "Random Forest:\n",
      "{'min_samples_split': 2, 'n_estimators': 20, 'max_depth': 30}\n",
      "\n",
      "Logistic:\n",
      "{'penalty': 'l1'}\n",
      "\n"
     ]
    }
   ],
   "source": [
    "#Parameter selection + Cross Validation\n",
    "from sklearn.cross_validation import KFold,train_test_split\n",
    "from sklearn.grid_search import GridSearchCV\n",
    "\n",
    "for (name, model), (name2,param) in zip(cs_classifiers.items(),params.items()):\n",
    "    print \"%s:\" % name\n",
    "    clf = GridSearchCV(model, param, scoring = 'precision', cv=10)\n",
    "\n",
    "    clf.fit(X_train, y_train)\n",
    "    y_pred = clf.predict(X_test) \n",
    "    print clf.best_params_\n",
    "    print \n",
    "    "
   ]
  },
  {
   "cell_type": "code",
   "execution_count": 237,
   "metadata": {
    "collapsed": false
   },
   "outputs": [
    {
     "name": "stdout",
     "output_type": "stream",
     "text": [
      "Support Vector Classification:\n",
      "\tAccuracy: 0.835\n",
      "\tPrecision: 0.969\n",
      "\tRecall: 0.599\n",
      "\tF1: 0.741\n",
      "\n",
      "Random Forest:\n",
      "\tAccuracy: 0.940\n",
      "\tPrecision: 0.948\n",
      "\tRecall: 0.898\n",
      "\tF1: 0.922\n",
      "\n",
      "Logistic:\n",
      "\tAccuracy: 0.814\n",
      "\tPrecision: 0.975\n",
      "\tRecall: 0.541\n",
      "\tF1: 0.696\n",
      "\n"
     ]
    }
   ],
   "source": [
    "#Evaluate Performance across all models\n",
    "\n",
    "classifiers = {'Logistic':LogisticRegression(penalty = 'l1',class_weight= {0: 10,1:1}),\n",
    "               'Support Vector Classification':SVC( kernel ='linear', C = 100,class_weight= {0: 10,1:1}),\n",
    "               'Random Forest':RandomForestClassifier(min_samples_split = 5, n_estimators= 20,\n",
    "                                                      max_depth = 30,class_weight= {0: 10,1:1}),\n",
    "               }\n",
    "\n",
    "for name, clf in classifiers.items():                  \n",
    "    clf.fit(X_train, y_train)\n",
    "    y_pred = clf.predict(X_test)\n",
    "    print \"%s:\" % name\n",
    "    \n",
    "    # Model performance is evaluated with accuracy, precision, recall and f-score\n",
    "    print \"\\tAccuracy: %1.3f\" % accuracy_score(y_test, y_pred)\n",
    "    print \"\\tPrecision: %1.3f\" % precision_score(y_test, y_pred)\n",
    "    print \"\\tRecall: %1.3f\" % recall_score(y_test, y_pred)\n",
    "    print \"\\tF1: %1.3f\\n\" % f1_score(y_test, y_pred)"
   ]
  },
  {
   "cell_type": "markdown",
   "metadata": {},
   "source": [
    "Although Logistic regression and SVM generates high precisions, their accuracies are worse than random forest. I chose random forest as the final model since it's well-balanced."
   ]
  },
  {
   "cell_type": "code",
   "execution_count": 238,
   "metadata": {
    "collapsed": false
   },
   "outputs": [
    {
     "data": {
      "image/png": "[encoded data removed]",
      "text/plain": [
       "<matplotlib.figure.Figure at 0x12b0047d0>"
      ]
     },
     "metadata": {},
     "output_type": "display_data"
    }
   ],
   "source": [
    "#The best model\n",
    "cs_best = RandomForestClassifier(min_samples_split = 5, n_estimators= 20, max_depth = 30,class_weight= {0: 10,1:1})\n",
    "\n",
    "#ROC\n",
    "y_pred_rf = cs_best.fit(X_train,y_train).predict_proba(X_test)[:, 1]\n",
    "fpr, tpr, _ = roc_curve(y_test, y_pred_rf)\n",
    "\n",
    "plt.figure(1)\n",
    "plt.plot([0, 1], [0, 1], 'k--')\n",
    "plt.plot(fpr, tpr)\n",
    "plt.xlabel('False positive rate')\n",
    "plt.ylabel('True positive rate')\n",
    "plt.title('ROC curve')\n",
    "plt.show()"
   ]
  },
  {
   "cell_type": "markdown",
   "metadata": {},
   "source": [
    "##Conclusion\n",
    "\n",
    "Random forest perferms great for general model and cost-sensitive classification model.\n",
    "\n",
    "The performance for senario 1 is:\n",
    "\tAccuracy: 0.949\n",
    "\tPrecision: 0.941\n",
    "\tRecall: 0.928\n",
    "\tF1: 0.935\n",
    "    \n",
    "The performance for senario 2 is:\n",
    "\n",
    "\tAccuracy: 0.940\n",
    "\tPrecision: 0.948\n",
    "\tRecall: 0.898\n",
    "\tF1: 0.922"
   ]
  }
 ],
 "metadata": {
  "kernelspec": {
   "display_name": "Python 2",
   "language": "python",
   "name": "python2"
  },
  "language_info": {
   "codemirror_mode": {
    "name": "ipython",
    "version": 2
   },
   "file_extension": ".py",
   "mimetype": "text/x-python",
   "name": "python",
   "nbconvert_exporter": "python",
   "pygments_lexer": "ipython2",
   "version": "2.7.11"
  }
 },
 "nbformat": 4,
 "nbformat_minor": 0
}
