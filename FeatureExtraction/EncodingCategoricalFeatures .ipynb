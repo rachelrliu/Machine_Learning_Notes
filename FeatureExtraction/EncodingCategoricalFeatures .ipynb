{
 "cells": [
  {
   "cell_type": "markdown",
   "metadata": {},
   "source": [
    "#Encoding Categorical Features\n",
    "\n",
    "\n",
    "Features can come in various different kind of format. Typically we distinguish between interval(continuous) and categorical (discrete) features. And the categorical features can be further categorized into ordinal and nominal features.\n",
    "\n",
    "Most implementations of machine learning algorithms require numerical data as input, so we have to prepare our data accordingly. \n",
    "\n",
    "\n",
    "##Sample Data\n",
    "\n",
    "Let's first create a simple dataset that describe a group of people, containing all three kinds of features:\n",
    "* Numerical Variable: income\n",
    "* Nominal Variable: hair color\n",
    "* Ordinal Variable: level of educational experience"
   ]
  },
  {
   "cell_type": "code",
   "execution_count": 36,
   "metadata": {
    "collapsed": false
   },
   "outputs": [
    {
     "data": {
      "text/html": [
       "<div>\n",
       "<table border=\"1\" class=\"dataframe\">\n",
       "  <thead>\n",
       "    <tr style=\"text-align: right;\">\n",
       "      <th></th>\n",
       "      <th>education</th>\n",
       "      <th>hair color</th>\n",
       "      <th>income</th>\n",
       "    </tr>\n",
       "  </thead>\n",
       "  <tbody>\n",
       "    <tr>\n",
       "      <th>0</th>\n",
       "      <td>high school graduate</td>\n",
       "      <td>black</td>\n",
       "      <td>20000</td>\n",
       "    </tr>\n",
       "    <tr>\n",
       "      <th>1</th>\n",
       "      <td>some college</td>\n",
       "      <td>blonde</td>\n",
       "      <td>40000</td>\n",
       "    </tr>\n",
       "    <tr>\n",
       "      <th>2</th>\n",
       "      <td>college graduate</td>\n",
       "      <td>grey</td>\n",
       "      <td>60000</td>\n",
       "    </tr>\n",
       "  </tbody>\n",
       "</table>\n",
       "</div>"
      ],
      "text/plain": [
       "              education hair color  income\n",
       "0  high school graduate      black   20000\n",
       "1          some college     blonde   40000\n",
       "2      college graduate       grey   60000"
      ]
     },
     "execution_count": 36,
     "metadata": {},
     "output_type": "execute_result"
    }
   ],
   "source": [
    "import pandas as pd\n",
    "df = pd.DataFrame({'income':[20000, 40000,60000], \n",
    "                   'hair color':['black', 'blonde', 'grey'], \n",
    "                   'education':['high school graduate', 'some college', 'college graduate']})\n",
    "df"
   ]
  },
  {
   "cell_type": "markdown",
   "metadata": {},
   "source": [
    "##Ordinal Features\n",
    "\n",
    "Ordinal features are usually treated as numerical variables. To achieve that, We have to make sure that the correct values are associated with the corresponding strings. Thus, we first need to set-up an explicit mapping dictionary and use the dictionary to convert ordinal features to numerical features."
   ]
  },
  {
   "cell_type": "code",
   "execution_count": 37,
   "metadata": {
    "collapsed": false
   },
   "outputs": [
    {
     "data": {
      "text/html": [
       "<div>\n",
       "<table border=\"1\" class=\"dataframe\">\n",
       "  <thead>\n",
       "    <tr style=\"text-align: right;\">\n",
       "      <th></th>\n",
       "      <th>education</th>\n",
       "      <th>hair color</th>\n",
       "      <th>income</th>\n",
       "    </tr>\n",
       "  </thead>\n",
       "  <tbody>\n",
       "    <tr>\n",
       "      <th>0</th>\n",
       "      <td>1</td>\n",
       "      <td>black</td>\n",
       "      <td>20000</td>\n",
       "    </tr>\n",
       "    <tr>\n",
       "      <th>1</th>\n",
       "      <td>2</td>\n",
       "      <td>blonde</td>\n",
       "      <td>40000</td>\n",
       "    </tr>\n",
       "    <tr>\n",
       "      <th>2</th>\n",
       "      <td>3</td>\n",
       "      <td>grey</td>\n",
       "      <td>60000</td>\n",
       "    </tr>\n",
       "  </tbody>\n",
       "</table>\n",
       "</div>"
      ],
      "text/plain": [
       "   education hair color  income\n",
       "0          1      black   20000\n",
       "1          2     blonde   40000\n",
       "2          3       grey   60000"
      ]
     },
     "execution_count": 37,
     "metadata": {},
     "output_type": "execute_result"
    }
   ],
   "source": [
    "#create a copy of df to protect the original df\n",
    "df0 = df\n",
    "\n",
    "#mapping\n",
    "education_mapping = {\n",
    "           'high school graduate': 1,\n",
    "           'some college': 2,\n",
    "           'college graduate': 3}\n",
    "\n",
    "df0['education'] = df0['education'].map(education_mapping)\n",
    "df0"
   ]
  },
  {
   "cell_type": "markdown",
   "metadata": {},
   "source": [
    "##Nominal Features\n",
    "\n",
    "To represent nomial value in numerical format, we usually convert nomial variables to a series of dummy variales. In other word, each possible hair color value becomes a feature column itself with values 1 or 0.\n",
    "\n",
    "We can achieve this either by scikit 'OneHotEncoder' or pandas 'get_dummies'.\n",
    "\n",
    "###scikit - OneHotEncoder\n",
    "\n",
    "The OneHotEncoder takes a list of dictionary entries and transforms it to vectors. However, OneHotEncoder only takes integer columns as input. So we can use the LabelEncoder first to transform the hair color column to integer columns and then use OneHotEncoder."
   ]
  },
  {
   "cell_type": "code",
   "execution_count": 24,
   "metadata": {
    "collapsed": false
   },
   "outputs": [
    {
     "data": {
      "text/html": [
       "<div>\n",
       "<table border=\"1\" class=\"dataframe\">\n",
       "  <thead>\n",
       "    <tr style=\"text-align: right;\">\n",
       "      <th></th>\n",
       "      <th>education</th>\n",
       "      <th>hair color</th>\n",
       "      <th>income</th>\n",
       "    </tr>\n",
       "  </thead>\n",
       "  <tbody>\n",
       "    <tr>\n",
       "      <th>0</th>\n",
       "      <td>high school graduate</td>\n",
       "      <td>0</td>\n",
       "      <td>20000</td>\n",
       "    </tr>\n",
       "    <tr>\n",
       "      <th>1</th>\n",
       "      <td>some college</td>\n",
       "      <td>1</td>\n",
       "      <td>40000</td>\n",
       "    </tr>\n",
       "    <tr>\n",
       "      <th>2</th>\n",
       "      <td>college graduate</td>\n",
       "      <td>2</td>\n",
       "      <td>60000</td>\n",
       "    </tr>\n",
       "  </tbody>\n",
       "</table>\n",
       "</div>"
      ],
      "text/plain": [
       "              education  hair color  income\n",
       "0  high school graduate           0   20000\n",
       "1          some college           1   40000\n",
       "2      college graduate           2   60000"
      ]
     },
     "execution_count": 24,
     "metadata": {},
     "output_type": "execute_result"
    }
   ],
   "source": [
    "#create a copy of df to protect the original df\n",
    "df1 = df\n",
    "\n",
    "from sklearn.preprocessing import LabelEncoder\n",
    "color_le = LabelEncoder()\n",
    "df1['hair color'] = color_le.fit_transform(df1['hair color'])\n",
    "\n",
    "df1"
   ]
  },
  {
   "cell_type": "code",
   "execution_count": 25,
   "metadata": {
    "collapsed": false
   },
   "outputs": [
    {
     "data": {
      "text/plain": [
       "array([[ 1.,  0.,  0.],\n",
       "       [ 0.,  1.,  0.],\n",
       "       [ 0.,  0.,  1.]])"
      ]
     },
     "execution_count": 25,
     "metadata": {},
     "output_type": "execute_result"
    }
   ],
   "source": [
    "from sklearn.preprocessing import OneHotEncoder\n",
    "ohe = OneHotEncoder(sparse=False)\n",
    "\n",
    "hair_color_dummies = ohe.fit_transform(df1[['hair color']].values)\n",
    "hair_color_dummies"
   ]
  },
  {
   "cell_type": "markdown",
   "metadata": {},
   "source": [
    "Finally, merge the hair color dummy variables back to the original dataframe to get the complete dataset."
   ]
  },
  {
   "cell_type": "code",
   "execution_count": 26,
   "metadata": {
    "collapsed": false,
    "scrolled": true
   },
   "outputs": [
    {
     "data": {
      "text/html": [
       "<div>\n",
       "<table border=\"1\" class=\"dataframe\">\n",
       "  <thead>\n",
       "    <tr style=\"text-align: right;\">\n",
       "      <th></th>\n",
       "      <th>education</th>\n",
       "      <th>income</th>\n",
       "      <th>hair_color = black</th>\n",
       "      <th>hair_color = blonde</th>\n",
       "      <th>hair_color = grey</th>\n",
       "    </tr>\n",
       "  </thead>\n",
       "  <tbody>\n",
       "    <tr>\n",
       "      <th>0</th>\n",
       "      <td>high school graduate</td>\n",
       "      <td>20000</td>\n",
       "      <td>1.0</td>\n",
       "      <td>0.0</td>\n",
       "      <td>0.0</td>\n",
       "    </tr>\n",
       "    <tr>\n",
       "      <th>1</th>\n",
       "      <td>some college</td>\n",
       "      <td>40000</td>\n",
       "      <td>0.0</td>\n",
       "      <td>1.0</td>\n",
       "      <td>0.0</td>\n",
       "    </tr>\n",
       "    <tr>\n",
       "      <th>2</th>\n",
       "      <td>college graduate</td>\n",
       "      <td>60000</td>\n",
       "      <td>0.0</td>\n",
       "      <td>0.0</td>\n",
       "      <td>1.0</td>\n",
       "    </tr>\n",
       "  </tbody>\n",
       "</table>\n",
       "</div>"
      ],
      "text/plain": [
       "              education  income  hair_color = black  hair_color = blonde  \\\n",
       "0  high school graduate   20000                 1.0                  0.0   \n",
       "1          some college   40000                 0.0                  1.0   \n",
       "2      college graduate   60000                 0.0                  0.0   \n",
       "\n",
       "   hair_color = grey  \n",
       "0                0.0  \n",
       "1                0.0  \n",
       "2                1.0  "
      ]
     },
     "execution_count": 26,
     "metadata": {},
     "output_type": "execute_result"
    }
   ],
   "source": [
    "hair_color_df = pd.DataFrame(hair_color_dummies,columns = ['hair_color = black','hair_color = blonde','hair_color = grey'])\n",
    "df1 = pd.concat([df1[['education','income']],hair_color_df],axis = 1)\n",
    "df1"
   ]
  },
  {
   "cell_type": "markdown",
   "metadata": {},
   "source": [
    "###pandas - get_dummies\n",
    "\n",
    "pandas comes with a convenience function to create new categories for nominal features. Note that the function automatically convert ALL categorical variables to dummy variables, including Ordianal variables. To avoid this, we first need to convert ordinal features to numerical features, then let get_dummies handle the rest."
   ]
  },
  {
   "cell_type": "code",
   "execution_count": 39,
   "metadata": {
    "collapsed": false
   },
   "outputs": [
    {
     "data": {
      "text/html": [
       "<div>\n",
       "<table border=\"1\" class=\"dataframe\">\n",
       "  <thead>\n",
       "    <tr style=\"text-align: right;\">\n",
       "      <th></th>\n",
       "      <th>education</th>\n",
       "      <th>income</th>\n",
       "      <th>hair color_black</th>\n",
       "      <th>hair color_blonde</th>\n",
       "      <th>hair color_grey</th>\n",
       "    </tr>\n",
       "  </thead>\n",
       "  <tbody>\n",
       "    <tr>\n",
       "      <th>0</th>\n",
       "      <td>1</td>\n",
       "      <td>20000</td>\n",
       "      <td>1.0</td>\n",
       "      <td>0.0</td>\n",
       "      <td>0.0</td>\n",
       "    </tr>\n",
       "    <tr>\n",
       "      <th>1</th>\n",
       "      <td>2</td>\n",
       "      <td>40000</td>\n",
       "      <td>0.0</td>\n",
       "      <td>1.0</td>\n",
       "      <td>0.0</td>\n",
       "    </tr>\n",
       "    <tr>\n",
       "      <th>2</th>\n",
       "      <td>3</td>\n",
       "      <td>60000</td>\n",
       "      <td>0.0</td>\n",
       "      <td>0.0</td>\n",
       "      <td>1.0</td>\n",
       "    </tr>\n",
       "  </tbody>\n",
       "</table>\n",
       "</div>"
      ],
      "text/plain": [
       "   education  income  hair color_black  hair color_blonde  hair color_grey\n",
       "0          1   20000               1.0                0.0              0.0\n",
       "1          2   40000               0.0                1.0              0.0\n",
       "2          3   60000               0.0                0.0              1.0"
      ]
     },
     "execution_count": 39,
     "metadata": {},
     "output_type": "execute_result"
    }
   ],
   "source": [
    "#start with df0 (ordinal education column has already been converted to numerical features in previous step) \n",
    "df2 = pd.get_dummies(df0)\n",
    "df2"
   ]
  }
 ],
 "metadata": {
  "anaconda-cloud": {},
  "kernelspec": {
   "display_name": "Python [conda root]",
   "language": "python",
   "name": "conda-root-py"
  },
  "language_info": {
   "codemirror_mode": {
    "name": "ipython",
    "version": 3
   },
   "file_extension": ".py",
   "mimetype": "text/x-python",
   "name": "python",
   "nbconvert_exporter": "python",
   "pygments_lexer": "ipython3",
   "version": "3.5.2"
  }
 },
 "nbformat": 4,
 "nbformat_minor": 1
}
